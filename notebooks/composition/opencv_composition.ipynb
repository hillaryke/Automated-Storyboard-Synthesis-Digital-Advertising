{
 "cells": [
  {
   "cell_type": "code",
   "execution_count": 1,
   "metadata": {},
   "outputs": [],
   "source": [
    "import os\n",
    "from PIL import Image\n",
    "\n",
    "os.chdir(\"../../\")"
   ]
  },
  {
   "cell_type": "code",
   "execution_count": 3,
   "metadata": {},
   "outputs": [
    {
     "ename": "",
     "evalue": "",
     "output_type": "error",
     "traceback": [
      "\u001b[1;31mThe Kernel crashed while executing code in the current cell or a previous cell. \n",
      "\u001b[1;31mPlease review the code in the cell(s) to identify a possible cause of the failure. \n",
      "\u001b[1;31mClick <a href='https://aka.ms/vscodeJupyterKernelCrash'>here</a> for more info. \n",
      "\u001b[1;31mView Jupyter <a href='command:jupyter.viewOutput'>log</a> for further details."
     ]
    }
   ],
   "source": [
    "import cv2\n",
    "\n",
    "image_path = 'data/Assets/0a22f881b77f00220f2034c21a18b854/header.jpg'\n",
    "\n",
    "\n",
    "# Load the image\n",
    "# image_path = 'header.jpg'  # Replace with the actual path to your image\n",
    "img = cv2.imread(image_path)\n",
    "\n",
    "# Coordinates of the bounding boxes \n",
    "logo_coords = [(12, 6), (138, 60)]  # (x1, y1), (x2, y2)\n",
    "certified_coords = [(14, 74), (283, 102)]\n",
    "\n",
    "# Draw the bounding boxes with thickness 2\n",
    "cv2.rectangle(img, logo_coords[0], logo_coords[1], (0, 0, 255), 2)  # Red color, thickness 2\n",
    "cv2.rectangle(img, certified_coords[0], certified_coords[1], (0, 0, 255), 2) \n",
    "\n",
    "# Add text labels to the bounding boxes\n",
    "cv2.putText(img, 'LEXUS Logo', (logo_coords[0][0], logo_coords[0][1] - 10), cv2.FONT_HERSHEY_SIMPLEX, 0.5, (0, 0, 255), 2)\n",
    "cv2.putText(img, 'L/CERTIFIED BY LEXUS', (certified_coords[0][0], certified_coords[0][1] - 10), cv2.FONT_HERSHEY_SIMPLEX, 0.5, (0, 0, 255), 2)\n",
    "\n",
    "# Display the image using OpenCV (press any key to close)\n",
    "# cv2.imshow('Image with Bounding Boxes', img)\n",
    "# cv2.waitKey(0)\n",
    "# cv2.destroyAllWindows()\n",
    "\n",
    "# (Optional) Save the image with bounding boxes\n",
    "cv2.imwrite('header_with_boxes.jpg', img) \n"
   ]
  },
  {
   "cell_type": "code",
   "execution_count": null,
   "metadata": {},
   "outputs": [],
   "source": []
  }
 ],
 "metadata": {
  "kernelspec": {
   "display_name": ".venv",
   "language": "python",
   "name": "python3"
  },
  "language_info": {
   "codemirror_mode": {
    "name": "ipython",
    "version": 3
   },
   "file_extension": ".py",
   "mimetype": "text/x-python",
   "name": "python",
   "nbconvert_exporter": "python",
   "pygments_lexer": "ipython3",
   "version": "3.8.10"
  }
 },
 "nbformat": 4,
 "nbformat_minor": 2
}
