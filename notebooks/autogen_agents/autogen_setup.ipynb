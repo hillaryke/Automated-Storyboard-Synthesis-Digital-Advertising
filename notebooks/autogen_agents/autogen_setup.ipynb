{
 "cells": [
  {
   "cell_type": "code",
   "execution_count": 1,
   "metadata": {},
   "outputs": [],
   "source": [
    "import os\n",
    "import re\n",
    "from typing import Dict, Optional\n",
    "\n",
    "from IPython.display import display\n",
    "from PIL.Image import Image\n",
    "\n",
    "import autogen\n",
    "from autogen.agentchat.contrib import img_utils\n",
    "from autogen.agentchat.contrib.capabilities import generate_images\n",
    "from autogen.cache import Cache\n",
    "from autogen.oai import openai_utils"
   ]
  },
  {
   "cell_type": "code",
   "execution_count": null,
   "metadata": {},
   "outputs": [],
   "source": [
    "gpt_config = {\n",
    "    \"config_list\": [{\"model\": \"gpt-4-turbo-preview\", \"api_key\": os.environ[\"OPENAI_API_KEY\"]}],\n",
    "    \"timeout\": 120,\n",
    "    \"temperature\": 0.7,\n",
    "}\n",
    "gpt_vision_config = {\n",
    "    \"config_list\": [{\"model\": \"gpt-4-vision-preview\", \"api_key\": os.environ[\"OPENAI_API_KEY\"]}],\n",
    "    \"timeout\": 120,\n",
    "    \"temperature\": 0.7,\n",
    "}\n",
    "dalle_config = {\n",
    "    \"config_list\": [{\"model\": \"dall-e-3\", \"api_key\": os.environ[\"OPENAI_API_KEY\"]}],\n",
    "    \"timeout\": 120,\n",
    "    \"temperature\": 0.7,\n",
    "}"
   ]
  }
 ],
 "metadata": {
  "kernelspec": {
   "display_name": ".venv",
   "language": "python",
   "name": "python3"
  },
  "language_info": {
   "codemirror_mode": {
    "name": "ipython",
    "version": 3
   },
   "file_extension": ".py",
   "mimetype": "text/x-python",
   "name": "python",
   "nbconvert_exporter": "python",
   "pygments_lexer": "ipython3",
   "version": "3.8.10"
  }
 },
 "nbformat": 4,
 "nbformat_minor": 2
}
