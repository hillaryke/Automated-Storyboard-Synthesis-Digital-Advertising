{
 "cells": [
  {
   "cell_type": "code",
   "execution_count": 1,
   "metadata": {},
   "outputs": [],
   "source": [
    "import os\n",
    "os.chdir(\"../\")"
   ]
  },
  {
   "cell_type": "code",
   "execution_count": 4,
   "metadata": {},
   "outputs": [
    {
     "name": "stdout",
     "output_type": "stream",
     "text": [
      "\n"
     ]
    },
    {
     "name": "stdout",
     "output_type": "stream",
     "text": [
      "image 1/1 /home/hillary_kipkemoi/Automated-Storyboard-Synthesis-Digital-Advertising/data/Assets/bfbf7a2b7ac635e67877b1ab87fd6629/_preview.png: 640x448 2 kites, 225.9ms\n",
      "Speed: 3.0ms preprocess, 225.9ms inference, 1.2ms postprocess per image at shape (1, 3, 640, 448)\n"
     ]
    },
    {
     "name": "stderr",
     "output_type": "stream",
     "text": [
      "/home/hillary_kipkemoi/Automated-Storyboard-Synthesis-Digital-Advertising/.venv/lib/python3.8/site-packages/sklearn/cluster/_kmeans.py:1416: FutureWarning: The default value of `n_init` will change from 10 to 'auto' in 1.4. Set the value of `n_init` explicitly to suppress the warning\n",
      "  super()._check_params_vs_input(X, default_n_init=10)\n"
     ]
    },
    {
     "name": "stdout",
     "output_type": "stream",
     "text": [
      "| game_id                          | preview_link                                                                                                                                            | ER       | CTR       | objects   | colors                                                                        | positions                                                          | text                                 |\n",
      "|:---------------------------------|:--------------------------------------------------------------------------------------------------------------------------------------------------------|:---------|:----------|:----------|:------------------------------------------------------------------------------|:-------------------------------------------------------------------|:-------------------------------------|\n",
      "| bfbf7a2b7ac635e67877b1ab87fd6629 | https://s3.us-east-1.amazonaws.com/a.futureadlabs.com-us-east-1-backup/us-east-1/games/bfbf7a2b7ac635e67877b1ab87fd6629/b7a604b3b08f0862ef0e/index.html | 0.209269 | 0.0584383 | ['kite']  | [[70, 111, 75], [254, 254, 254], [1, 1, 1], [195, 195, 195], [132, 132, 132]] | [[tensor(0.4353), tensor(0.8288), tensor(0.5873), tensor(0.9489)]] | Ovexus                               |\n",
      "|                                  |                                                                                                                                                         |          |           |           |                                                                               |                                                                    | L/CERTIFIED BY LEXUS                 |\n",
      "|                                  |                                                                                                                                                         |          |           |           |                                                                               |                                                                    |                                      |\n",
      "|                                  |                                                                                                                                                         |          |           |           |                                                                               |                                                                    | TAP THE SCREEN                       |\n",
      "|                                  |                                                                                                                                                         |          |           |           |                                                                               |                                                                    |                                      |\n",
      "|                                  |                                                                                                                                                         |          |           |           |                                                                               |                                                                    | to find the nearest Lexus dealership |\n",
      "|                                  |                                                                                                                                                         |          |           |           |                                                                               |                                                                    |                                      |\n",
      "|                                  |                                                                                                                                                         |          |           |           |                                                                               |                                                                    | (iF                                  |\n"
     ]
    }
   ],
   "source": [
    "# !pip install ultralytics pytesseract\n",
    "\n",
    "import pandas as pd\n",
    "import numpy as np\n",
    "from sklearn.cluster import KMeans\n",
    "from PIL import Image\n",
    "from ultralytics import YOLO\n",
    "import os\n",
    "import pytesseract\n",
    "\n",
    "# Load the performance data\n",
    "df_performance = pd.read_csv('data/performance_data.csv')\n",
    "df_performance = df_performance.head(1)  # For demonstration purposes\n",
    "\n",
    "# Create an empty dictionary to store the results\n",
    "results = {}\n",
    "\n",
    "# Iterate through each row in the dataframe\n",
    "for index, row in df_performance.iterrows():\n",
    "    game_id = row['game_id']\n",
    "    image_path = f'data/Assets/{game_id}/_preview.png'\n",
    "\n",
    "    # Check if the image file exists\n",
    "    if os.path.exists(image_path):\n",
    "        # Load the image using Pillow\n",
    "        img = Image.open(image_path)\n",
    "\n",
    "        # Object Identification\n",
    "        model = YOLO('yolov8n.pt')  # Load a YOLOv8 model (you might need to download it first)\n",
    "        results_yolo = model(image_path)\n",
    "        class_names = [model.names[int(result.boxes.cls[0])] for result in results_yolo]\n",
    "        results[game_id] = {'objects': class_names}\n",
    "\n",
    "        # Color Identification\n",
    "        img_rgb = img.convert('RGB')\n",
    "        img_array = np.array(img_rgb).reshape(-1, 3)\n",
    "        kmeans = KMeans(n_clusters=5, random_state=0).fit(img_array)\n",
    "        dominant_colors = kmeans.cluster_centers_.astype(int)\n",
    "        results[game_id]['colors'] = dominant_colors.tolist()\n",
    "\n",
    "        # Position Extraction\n",
    "        positions = []\n",
    "        for result in results_yolo:\n",
    "            x1, y1, x2, y2 = result.boxes.xyxy[0]\n",
    "            positions.append([x1 / img.width, y1 / img.height, x2 / img.width, y2 / img.height])\n",
    "        results[game_id]['positions'] = positions\n",
    "\n",
    "        # Character Recognition\n",
    "        text = pytesseract.image_to_string(img)\n",
    "        results[game_id]['text'] = text\n",
    "\n",
    "# Create a new dataframe from the results dictionary\n",
    "df_features = pd.DataFrame.from_dict(results, orient='index')\n",
    "\n",
    "# Merge the new dataframe with the original dataframe on the `game_id` column\n",
    "merged_df = df_performance.merge(df_features, left_on='game_id', right_index=True, how='left')\n",
    "\n",
    "# Display the first 5 rows of the merged dataframe\n",
    "print(merged_df.head().to_markdown(index=False, numalign=\"left\", stralign=\"left\"))\n"
   ]
  },
  {
   "cell_type": "code",
   "execution_count": null,
   "metadata": {},
   "outputs": [],
   "source": []
  },
  {
   "cell_type": "code",
   "execution_count": null,
   "metadata": {},
   "outputs": [],
   "source": []
  }
 ],
 "metadata": {
  "kernelspec": {
   "display_name": ".venv",
   "language": "python",
   "name": "python3"
  },
  "language_info": {
   "codemirror_mode": {
    "name": "ipython",
    "version": 3
   },
   "file_extension": ".py",
   "mimetype": "text/x-python",
   "name": "python",
   "nbconvert_exporter": "python",
   "pygments_lexer": "ipython3",
   "version": "3.8.10"
  }
 },
 "nbformat": 4,
 "nbformat_minor": 2
}
